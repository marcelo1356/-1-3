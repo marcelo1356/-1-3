{
 "cells": [
  {
   "cell_type": "code",
   "execution_count": 3,
   "metadata": {},
   "outputs": [],
   "source": [
    "\n",
    "import math"
   ]
  },
  {
   "cell_type": "markdown",
   "metadata": {},
   "source": [
    "A) メタンを断熱圧縮し 1.6MPa に加圧する。圧縮後の温度と必要な仕事量を求めよ"
   ]
  },
  {
   "cell_type": "code",
   "execution_count": 4,
   "metadata": {},
   "outputs": [
    {
     "name": "stdout",
     "output_type": "stream",
     "text": [
      "圧縮後の温度 Tf= 677.8960993965401 K\n",
      "必要な仕事量= 7685.172675957088 J\n"
     ]
    }
   ],
   "source": [
    "Ti=35+273.15\n",
    "Pi=1*101325\n",
    "Pf=1.6*10**6\n",
    "nCH4=1\n",
    "nH2O=3\n",
    "γ=1.4   \n",
    "R=8.314\n",
    "\n",
    "Tf=Pf**(1-1/γ)/(Pi**(1-1/γ)/Ti)\n",
    "print(\"圧縮後の温度 Tf=\",Tf,\"K\")\n",
    "\n",
    "W=nCH4*R*(Tf-Ti)/(γ-1)\n",
    "print(\"必要な仕事量=\",W,\"J\")\n"
   ]
  },
  {
   "cell_type": "markdown",
   "metadata": {},
   "source": [
    "B) A)に続き、メタンを 855°Cまで加熱する。必要な熱量を求めよ"
   ]
  },
  {
   "cell_type": "code",
   "execution_count": 5,
   "metadata": {},
   "outputs": [
    {
     "name": "stdout",
     "output_type": "stream",
     "text": [
      "必要な熱量= 30363.30259501685 J\n"
     ]
    }
   ],
   "source": [
    "Ti=677.8960993965401\n",
    "Tf=855+273.15\n",
    "a=19.252\n",
    "b=5.213*10**-2\n",
    "c=1.197*10**-5\n",
    "d=-1.132*10**-8\n",
    "Q=nCH4*(a*(Tf-Ti)+1/2*b*(Tf**2-Ti**2)+1/3*c*(Tf**3-Ti**3)+1/4*d*(Tf**4-Ti**4))\n",
    "print(\"必要な熱量=\",Q,\"J\")"
   ]
  },
  {
   "cell_type": "markdown",
   "metadata": {},
   "source": [
    "C) 水を 1.6MPa に加圧した後、加熱する。沸点と蒸発に必要な熱量を求めよ。"
   ]
  },
  {
   "cell_type": "code",
   "execution_count": 6,
   "metadata": {},
   "outputs": [
    {
     "name": "stdout",
     "output_type": "stream",
     "text": [
      "沸点= 474.4210732908685 K\n",
      "蒸発に必要な熱量= 105482.72545908306 J\n"
     ]
    }
   ],
   "source": [
    "A = 23.19637\n",
    "B = 3816.44\n",
    "C = -46.13\n",
    "T=B/(A-math.log(1.6*10**6))-C\n",
    "print(\"沸点=\",T,\"K\")\n",
    "\n",
    "Pc = 22.04*10**6\n",
    "Tc = 647.3 \n",
    "Tr=T/Tc\n",
    "ΔZvap=(1-1.6*10**6/Pc/Tr**3)**0.5\n",
    "ΔHvap=R*ΔZvap*T**2*(B/(C+T)**2)\n",
    "\n",
    "Q=nH2O*ΔHvap\n",
    "print(\"蒸発に必要な熱量=\",Q,\"J\")\n"
   ]
  },
  {
   "cell_type": "markdown",
   "metadata": {},
   "source": [
    "D) 沸点までの加熱に必要な熱量、沸騰後 855°Cまでの加熱に必要な熱量を求めよ。"
   ]
  },
  {
   "cell_type": "code",
   "execution_count": 7,
   "metadata": {},
   "outputs": [
    {
     "name": "stdout",
     "output_type": "stream",
     "text": [
      "沸点までの加熱に必要な熱量= 43098.88574524448 J\n",
      "沸騰後 855°Cまでの加熱に必要な熱量= 76061.48150914442 J\n"
     ]
    }
   ],
   "source": [
    "T0=35+273.15\n",
    "T1=474.4210732908685\n",
    "\n",
    "aH2O=32.244\n",
    "bH2O=1.924*10**-3\n",
    "cH2O=1.056*10**-5\n",
    "dH2O=-3.597*10**-9\n",
    "Hv=(aH2O*(T1-T0)+1/2*bH2O*(T1**2-T0**2)+1/3*cH2O*(T1**3-T0**3)+1/4*dH2O*(T1**4-T0**4))\n",
    "\n",
    "A = 23.19637\n",
    "B = 3816.44\n",
    "C = -46.13\n",
    "Pvap_T0=math.exp(A-B/(C+T0))\n",
    "Pvap_T1=math.exp(A-B/(C+T1))\n",
    "\n",
    "Pc = 22.04*10**6\n",
    "Tc = 647.3 \n",
    "Tr=T0/Tc\n",
    "ΔZvap=(1-Pvap_T0/Pc/Tr**3)**0.5\n",
    "ΔHvap_T0=R*ΔZvap*T0**2*(B/(C+T0)**2)\n",
    "\n",
    "Tr=T1/Tc\n",
    "ΔZvap=(1-Pvap_T1/Pc/Tr**3)**0.5\n",
    "ΔHvap_T1=R*ΔZvap*T1**2*(B/(C+T1)**2)\n",
    "\n",
    "ΔH=nH2O*(Hv-(Pvap_T1-Pvap_T0)*18*10**-6-(ΔHvap_T1-ΔHvap_T0))\n",
    "print(\"沸点までの加熱に必要な熱量=\",ΔH,\"J\")\n",
    "\n",
    "Ti=474.4210732908685\n",
    "Tf=855+273.15\n",
    "\n",
    "aH2O=32.244\n",
    "bH2O=1.924*10**-3\n",
    "cH2O=1.056*10**-5\n",
    "dH2O=-3.597*10**-9\n",
    "Q=nH2O*(aH2O*(Tf-Ti)+1/2*bH2O*(Tf**2-Ti**2)+1/3*cH2O*(Tf**3-Ti**3)+1/4*dH2O*(Tf**4-Ti**4))\n",
    "\n",
    "print(\"沸騰後 855°Cまでの加熱に必要な熱量=\",Q,\"J\")\n",
    "\n"
   ]
  },
  {
   "cell_type": "markdown",
   "metadata": {},
   "source": [
    "E) 1.6MPa、855°Cでメタンと水を混合する。反応が平衡に達するとして温度を一定に\n",
    "保つために必要な加熱量(あるいは除熱量)を求めよ。"
   ]
  },
  {
   "cell_type": "code",
   "execution_count": 8,
   "metadata": {},
   "outputs": [
    {
     "name": "stdout",
     "output_type": "stream",
     "text": [
      "反応が平衡に達するとして温度を一定に 保つために必要な加熱量= 197373.39123637485 J\n"
     ]
    }
   ],
   "source": [
    "FCH4=0.109558105\n",
    "FH2O=1.972546142\n",
    "FCO=0.753429931\n",
    "FH2=2.808337647\n",
    "FCO2=0.137011964\n",
    "HfH2O=-242.0\n",
    "HfH2=0\n",
    "HfCO=-110.6\n",
    "HfCO2=-393.8\n",
    "HfCH4=-74.9\n",
    "ΔHfTOTAL=10**3*((FH2)*HfH2+(FH2O-3)*HfH2O+FCO*HfCO+FCO2*HfCO2+(FCH4-1)*HfCH4)\n",
    "\n",
    "Tf=855+273.15\n",
    "Ti=25+273.15\n",
    "\n",
    "aH2=27.144\n",
    "bH2=9.27*10**-3\n",
    "cH2=-1.381*10**-5\n",
    "dH2=7.645*10**-9\n",
    "QH2=(aH2*(Tf-Ti)+1/2*bH2*(Tf**2-Ti**2)+1/3*cH2*(Tf**3-Ti**3)+1/4*dH2*(Tf**4-Ti**4))\n",
    "\n",
    "aH2O=32.244\n",
    "bH2O=1.924*10**-3\n",
    "cH2O=1.056*10**-5\n",
    "dH2O=-3.597*10**-9\n",
    "QH2O=(aH2O*(Tf-Ti)+1/2*bH2O*(Tf**2-Ti**2)+1/3*cH2O*(Tf**3-Ti**3)+1/4*dH2O*(Tf**4-Ti**4))\n",
    "\n",
    "aCO=30.871\n",
    "bCO=-1.285*10**-2\n",
    "cCO=2.789*10**-5\n",
    "dCO=-1.272*10**-8\n",
    "QCO=(aCO*(Tf-Ti)+1/2*bCO*(Tf**2-Ti**2)+1/3*cCO*(Tf**3-Ti**3)+1/4*dCO*(Tf**4-Ti**4))\n",
    "\n",
    "aCO2=19.796\n",
    "bCO2=7.344*10**-2\n",
    "cCO2=-5.602*10**-5\n",
    "dCO2=1.715*10**-8\n",
    "QCO2=(aCO2*(Tf-Ti)+1/2*bCO2*(Tf**2-Ti**2)+1/3*cCO2*(Tf**3-Ti**3)+1/4*dCO2*(Tf**4-Ti**4))\n",
    "\n",
    "aCH4=19.252\n",
    "bCH4=5.213*10**-2\n",
    "cCH4=1.197*10**-5\n",
    "dCH4=-1.132*10**-8\n",
    "QCH4=(aCH4*(Tf-Ti)+1/2*bCH4*(Tf**2-Ti**2)+1/3*cCH4*(Tf**3-Ti**3)+1/4*dCH4*(Tf**4-Ti**4))\n",
    "HvTOTAL=QH2*FH2+QH2O*(FH2O-3)+FCO*QCO+QCO2*FCO2+QCH4*(FCH4-1)\n",
    "QTOTAL=ΔHfTOTAL+HvTOTAL\n",
    "print(\"反応が平衡に達するとして温度を一定に 保つために必要な加熱量=\",QTOTAL,\"J\")"
   ]
  },
  {
   "cell_type": "markdown",
   "metadata": {},
   "source": [
    "F) 反応ガスを 35°Cまで冷却する。除熱量、気相成分の組成と凝縮する水の量を求めよ。"
   ]
  },
  {
   "cell_type": "code",
   "execution_count": 9,
   "metadata": {},
   "outputs": [
    {
     "name": "stdout",
     "output_type": "stream",
     "text": [
      "凝縮する水の量= 1.9591648397100851 mol\n",
      "除熱量= 245546.68505925412 J\n",
      "YCH4= 0.028667232324961045\n",
      "YH2O= 0.0035013831387054445\n",
      "YCO= 0.19714425393316512\n",
      "YH2= 0.7348362567377689\n",
      "YCO2= 0.03585087386539954\n"
     ]
    }
   ],
   "source": [
    "Ptotal=1.6*10**6\n",
    "P35_H2O_gas=5602.213021928711   # from D\n",
    "nH2O_gas=P35_H2O_gas/(Ptotal-P35_H2O_gas)*(FCH4+FCO+FH2+FCO2)\n",
    "nH2O_liquid=FH2O-nH2O_gas\n",
    "print(\"凝縮する水の量=\",nH2O_liquid,\"mol\")\n",
    "\n",
    "Tf=855+273.15\n",
    "Ti=35+273.15\n",
    "\n",
    "aH2=27.144\n",
    "bH2=9.27*10**-3\n",
    "cH2=-1.381*10**-5\n",
    "dH2=7.645*10**-9\n",
    "QH2=(aH2*(Tf-Ti)+1/2*bH2*(Tf**2-Ti**2)+1/3*cH2*(Tf**3-Ti**3)+1/4*dH2*(Tf**4-Ti**4))\n",
    "\n",
    "aH2O=32.244\n",
    "bH2O=1.924*10**-3\n",
    "cH2O=1.056*10**-5\n",
    "dH2O=-3.597*10**-9\n",
    "QH2O=(aH2O*(Tf-Ti)+1/2*bH2O*(Tf**2-Ti**2)+1/3*cH2O*(Tf**3-Ti**3)+1/4*dH2O*(Tf**4-Ti**4))\n",
    "\n",
    "aCO=30.871\n",
    "bCO=-1.285*10**-2\n",
    "cCO=2.789*10**-5\n",
    "dCO=-1.272*10**-8\n",
    "QCO=(aCO*(Tf-Ti)+1/2*bCO*(Tf**2-Ti**2)+1/3*cCO*(Tf**3-Ti**3)+1/4*dCO*(Tf**4-Ti**4))\n",
    "\n",
    "aCO2=19.796\n",
    "bCO2=7.344*10**-2\n",
    "cCO2=-5.602*10**-5\n",
    "dCO2=1.715*10**-8\n",
    "QCO2=(aCO2*(Tf-Ti)+1/2*bCO2*(Tf**2-Ti**2)+1/3*cCO2*(Tf**3-Ti**3)+1/4*dCO2*(Tf**4-Ti**4))\n",
    "\n",
    "aCH4=19.252\n",
    "bCH4=5.213*10**-2\n",
    "cCH4=1.197*10**-5\n",
    "dCH4=-1.132*10**-8\n",
    "QCH4=(aCH4*(Tf-Ti)+1/2*bCH4*(Tf**2-Ti**2)+1/3*cCH4*(Tf**3-Ti**3)+1/4*dCH4*(Tf**4-Ti**4))\n",
    "\n",
    "Hv35_855=QH2*FH2+QH2O*(FH2O)+FCO*QCO+QCO2*FCO2+QCH4*(FCH4)\n",
    "ΔHvap=43834.06149941657\n",
    "Qf_remove=ΔHvap*nH2O_liquid+Hv35_855\n",
    "print(\"除熱量=\",Qf_remove, \"J\")\n",
    "\n",
    "FCH4=0.109558105\n",
    "FH2O=1.972546142\n",
    "FCO=0.753429931\n",
    "FH2=2.808337647\n",
    "FCO2=0.137011964\n",
    "FTOTAL=FCH4+nH2O_gas+FCO+FH2+FCO2\n",
    "YCH4=FCH4/FTOTAL\n",
    "YH2O=nH2O_gas/FTOTAL\n",
    "YCO=FCO/FTOTAL\n",
    "YH2=FH2/FTOTAL\n",
    "YCO2=FCO2/FTOTAL\n",
    "print(\"YCH4=\",YCH4)\n",
    "print(\"YH2O=\",YH2O)\n",
    "print(\"YCO=\",YCO)\n",
    "print(\"YH2=\",YH2)\n",
    "print(\"YCO2=\",YCO2)"
   ]
  },
  {
   "cell_type": "markdown",
   "metadata": {},
   "source": [
    "G) 気相成分を断熱的に 7.5MPa まで圧縮した後、35°Cまで冷却する。必要な仕事量を求めよ。"
   ]
  },
  {
   "cell_type": "code",
   "execution_count": 10,
   "metadata": {
    "scrolled": true
   },
   "outputs": [
    {
     "name": "stdout",
     "output_type": "stream",
     "text": [
      "必要な仕事量= 13582.252107319995 J\n"
     ]
    }
   ],
   "source": [
    "\n",
    "Ti=35+273.15\n",
    "Tf=(7.5*10**6)**(1-1/γ)/((1.6*10**6)**(1-1/γ)/Ti)\n",
    "\n",
    "W=FTOTAL*R*(Tf-Ti)/(γ-1)\n",
    "print(\"必要な仕事量=\",W,\"J\")"
   ]
  },
  {
   "cell_type": "markdown",
   "metadata": {},
   "source": [
    "G’) 気相成分を等温的に 7.5MPa まで圧縮する。必要な仕事量を求めよ。"
   ]
  },
  {
   "cell_type": "code",
   "execution_count": 32,
   "metadata": {},
   "outputs": [
    {
     "name": "stdout",
     "output_type": "stream",
     "text": [
      "等温的に7.5MPaまで圧縮する。必要な仕事量= 15126.245334820504 J\n"
     ]
    }
   ],
   "source": [
    "W=FTOTAL*R*(35+273.15)*math.log(7.5/1.6)\n",
    "print(\"等温的に7.5MPaまで圧縮する。必要な仕事量=\",W,\"J\")"
   ]
  }
 ],
 "metadata": {
  "kernelspec": {
   "display_name": "Python 3.6.9 64-bit",
   "language": "python",
   "name": "python36964bit374924eb9e7741d998b5a35001d0c326"
  },
  "language_info": {
   "codemirror_mode": {
    "name": "ipython",
    "version": 3
   },
   "file_extension": ".py",
   "mimetype": "text/x-python",
   "name": "python",
   "nbconvert_exporter": "python",
   "pygments_lexer": "ipython3",
   "version": "3.6.9"
  }
 },
 "nbformat": 4,
 "nbformat_minor": 4
}
